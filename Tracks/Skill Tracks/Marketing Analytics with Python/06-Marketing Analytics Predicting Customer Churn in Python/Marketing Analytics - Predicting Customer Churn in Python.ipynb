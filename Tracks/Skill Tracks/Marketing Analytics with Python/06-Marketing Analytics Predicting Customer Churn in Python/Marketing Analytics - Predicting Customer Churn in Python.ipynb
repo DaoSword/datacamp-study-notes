{
 "cells": [
  {
   "cell_type": "markdown",
   "id": "923ce752",
   "metadata": {},
   "source": [
    "# Marketing Analytics - Predicting Customer Churn in Python"
   ]
  },
  {
   "cell_type": "markdown",
   "id": "b1ef79d6",
   "metadata": {},
   "source": [
    "[Course Website](https://app.datacamp.com/learn/courses/marketing-analytics-predicting-customer-churn-in-python)"
   ]
  },
  {
   "cell_type": "markdown",
   "id": "243e39d8",
   "metadata": {},
   "source": [
    "## Course Description\n",
    "Churn is when a customer stops doing business or ends a relationship with a company. It’s a common problem across a variety of industries, from telecommunications to cable TV to SaaS, and a company that can predict churn can take proactive action to retain valuable customers and get ahead of the competition. This course will provide you a roadmap to create your own customer churn models. You’ll learn how to explore and visualize your data, prepare it for modeling, make predictions using machine learning, and communicate important, actionable insights to stakeholders. By the end of the course, you’ll become comfortable using the pandas library for data analysis and the scikit-learn library for machine learning."
   ]
  },
  {
   "cell_type": "markdown",
   "id": "9e68137b",
   "metadata": {},
   "source": [
    "## 01 - Exploratory Data Analysis\n",
    "Begin exploring the Telco Churn Dataset using pandas to compute summary statistics and Seaborn to create attractive visualizations."
   ]
  },
  {
   "cell_type": "code",
   "execution_count": 2,
   "id": "2e5e7e31",
   "metadata": {
    "ExecuteTime": {
     "end_time": "2022-11-02T10:47:34.052468Z",
     "start_time": "2022-11-02T10:47:28.354129Z"
    }
   },
   "outputs": [],
   "source": [
    "import pandas as pd"
   ]
  },
  {
   "cell_type": "code",
   "execution_count": 3,
   "id": "7b7a552c",
   "metadata": {
    "ExecuteTime": {
     "end_time": "2022-11-02T10:47:35.448101Z",
     "start_time": "2022-11-02T10:47:35.419458Z"
    }
   },
   "outputs": [],
   "source": [
    "telco = pd.read_csv('Churn.csv')"
   ]
  },
  {
   "cell_type": "markdown",
   "id": "d000ba80",
   "metadata": {},
   "source": [
    "### Exploring customer churn\n",
    "Now that you know what customer churn is, let's examine the structure of our customer dataset, which has been pre-loaded into a DataFrame called `telco`. Being able to check the structure of the data is a __fundamental__ step in the churn modeling process and is often overlooked.\n",
    "\n",
    "Use `pandas` methods such as `.info()` to get a sense for its structure and notice the different columns (also known as \"features\" in machine learning), such as `'CustServ_Calls'`, which denotes the number of customer service calls the customer made, and `'State'`, which indicates the state the customer is from.\n",
    "\n",
    "One feature is of particular interest to us: `'Churn'`, which can take in two values - `yes` and `no` - indicating whether or not the customer has churned. In this exercise, your job is to explore this feature. You can access it using `telco['Churn']`.\n",
    "\n",
    "How many churners does the dataset have, and how many non-churners? To easily answer this, you can use the `.value_counts()` method on `telco['Churn']`."
   ]
  },
  {
   "cell_type": "code",
   "execution_count": 4,
   "id": "a5265883",
   "metadata": {
    "ExecuteTime": {
     "end_time": "2022-11-02T10:47:58.324048Z",
     "start_time": "2022-11-02T10:47:58.297567Z"
    }
   },
   "outputs": [
    {
     "data": {
      "text/plain": [
       "no     2850\n",
       "yes     483\n",
       "Name: Churn, dtype: int64"
      ]
     },
     "execution_count": 4,
     "metadata": {},
     "output_type": "execute_result"
    }
   ],
   "source": [
    "telco['Churn'].value_counts()"
   ]
  },
  {
   "cell_type": "markdown",
   "id": "046e50b3",
   "metadata": {},
   "source": [
    "### Grouping and summarizing data"
   ]
  },
  {
   "cell_type": "markdown",
   "id": "bc3dfc89",
   "metadata": {},
   "source": [
    "#### Summary statistics for both classes\n",
    "Consider the following .groupby() code:"
   ]
  },
  {
   "cell_type": "code",
   "execution_count": null,
   "id": "efaea416",
   "metadata": {},
   "outputs": [],
   "source": []
  }
 ],
 "metadata": {
  "kernelspec": {
   "display_name": "Python 3 (ipykernel)",
   "language": "python",
   "name": "python3"
  },
  "language_info": {
   "codemirror_mode": {
    "name": "ipython",
    "version": 3
   },
   "file_extension": ".py",
   "mimetype": "text/x-python",
   "name": "python",
   "nbconvert_exporter": "python",
   "pygments_lexer": "ipython3",
   "version": "3.9.10"
  }
 },
 "nbformat": 4,
 "nbformat_minor": 5
}
